{
 "cells": [
  {
   "cell_type": "code",
   "execution_count": 3,
   "id": "dd2fc0b9-997a-407f-9756-ef418f69d799",
   "metadata": {},
   "outputs": [],
   "source": [
    "from enum import Enum\n",
    "from pathlib import Path\n",
    "import pandas as pd \n",
    "import function as fct\n",
    "import logging\n",
    "from sentier_data_tools.iri import ProductIRI\n",
    "logging.basicConfig(level=logging.INFO, format='%(levelname)s: %(message)s')\n",
    "\n"
   ]
  },
  {
   "cell_type": "code",
   "execution_count": 4,
   "id": "5558a49f-e6be-478a-9107-6a9c0da8ec81",
   "metadata": {},
   "outputs": [],
   "source": [
    "\n",
    "def assert_climate(wet_climate :str):\n",
    "    # If wet_climate is None, set climate_key to 'default'\n",
    "    if wet_climate is None:\n",
    "        climate_key = 'default'\n",
    "    else:\n",
    "        # Ensure wet_climate is either 'wet' or 'dry'\n",
    "        if wet_climate not in ['wet', 'dry']:\n",
    "            logging.error(f\"Invalid wet_climate value: {wet_climate}. Expected 'wet', 'dry', or None.\")\n",
    "            return None  # Return None in case of an error\n",
    "        climate_key = wet_climate\n",
    "        \n",
    "    return climate_key\n",
    "    \n",
    "def get_emission_factors(\n",
    "    product_IRI: ProductIRI,\n",
    "    climate_key = 'default',\n",
    "):\n",
    "    #read\n",
    "    df_emission_factors = pd.read_csv(\"../docs/EF.csv\", sep=';')\n",
    "    #format\n",
    "    df_emission_factors_formatted = fct.format_df(df_emission_factors, ['crop_iri','fert_iri'])\n",
    "    unique_IRI_crop = list(pd.unique(df_emission_factors_formatted['crop_iri']))\n",
    "    crop_match_IRI = fct.find_match_IRI(product_IRI, unique_IRI_crop)\n",
    "    \n",
    "    #filter\n",
    "    emission_factors_filtered = df_emission_factors[df_emission_factors['climate_type'] == climate_key]\n",
    "    emission_factors_filtered = emission_factors_filtered[emission_factors_filtered['crop_iri'] == crop_match_IRI]\n",
    "\n",
    "    return emission_factors_filtered\n",
    "\n",
    "def get_emission(emission_factor : pd.DataFrame(), N_total:float):\n",
    "    emission_factor['emission [kg_N20/ha]'] = emission_factor.apply(lambda x : x['emission_factor']*(28+16)/28*N_total , axis = 1)\n",
    "    return emission_factor\n",
    "\n",
    "\n",
    "def _run(product_IRI: ProductIRI, N_total: float, wet_climate: str = None):\n",
    "    climate_key = assert_climate(wet_climate)\n",
    "    emission_factors = get_emission_factors(product_IRI, climate_key)\n",
    "    df_emission = get_emission(emission_factors, N_total)\n",
    "\n",
    "    logging.info(df_emission)\n",
    "    return df_emission #only for testing \n",
    "\n",
    "# wet_climate = \"wet\", \"dry\", None\n",
    "def run(product_IRI: ProductIRI, fertilizer_n_per_ha, climate: str = None):\n",
    "    return _run(product_IRI, fertilizer_n_per_ha, climate)"
   ]
  },
  {
   "cell_type": "code",
   "execution_count": 5,
   "id": "3e326c8a-b97b-44b3-8f84-358cedad9d5e",
   "metadata": {},
   "outputs": [],
   "source": [
    "product_iri = ProductIRI(\"http://data.europa.eu/xsp/cn2024/100500000080\")"
   ]
  },
  {
   "cell_type": "code",
   "execution_count": 10,
   "id": "3baacc55-8e43-44d1-9190-12332657f738",
   "metadata": {},
   "outputs": [
    {
     "name": "stdout",
     "output_type": "stream",
     "text": [
      "\u001b[2m12:00:43\u001b[0m [\u001b[32m\u001b[1minfo     \u001b[0m] \u001b[1mRetrieved 17 triples from https://fuseki.d-d-s.ch/skosmos/query\u001b[0m\n"
     ]
    },
    {
     "data": {
      "text/plain": [
       "[<http://data.europa.eu/xsp/cn2024/100021000090>: CHAPTER 10 - CEREALS (product),\n",
       " <http://data.europa.eu/xsp/cn2024/060011000090>: SECTION II - VEGETABLE PRODUCTS (product)]"
      ]
     },
     "execution_count": 10,
     "metadata": {},
     "output_type": "execute_result"
    }
   ],
   "source": [
    "product_iri.broader()"
   ]
  },
  {
   "cell_type": "code",
   "execution_count": 9,
   "id": "86f599a2-1e84-46a6-a518-0768fe12d538",
   "metadata": {},
   "outputs": [
    {
     "name": "stdout",
     "output_type": "stream",
     "text": [
      "\u001b[2m12:00:29\u001b[0m [\u001b[32m\u001b[1minfo     \u001b[0m] \u001b[1mRetrieved 17 triples from https://fuseki.d-d-s.ch/skosmos/query\u001b[0m\n"
     ]
    },
    {
     "name": "stderr",
     "output_type": "stream",
     "text": [
      "INFO: Found broader match for <http://data.europa.eu/xsp/cn2024/060011000090>: SECTION II - VEGETABLE PRODUCTS (product)\n",
      "INFO:                                         crop_iri  \\\n",
      "3  http://data.europa.eu/xsp/cn2024/060011000090   \n",
      "4  http://data.europa.eu/xsp/cn2024/060011000090   \n",
      "5  http://data.europa.eu/xsp/cn2024/060011000090   \n",
      "\n",
      "                                        fert_iri climate_type fert_type  \\\n",
      "3  http://data.europa.eu/xsp/cn2024/310200000080      default   default   \n",
      "4  http://data.europa.eu/xsp/cn2024/310200000080      default   default   \n",
      "5  http://data.europa.eu/xsp/cn2024/310200000080      default   default   \n",
      "\n",
      "  value_type  emission_factor  emission [kg_N20/ha]  \n",
      "3      value            0.010                 0.110  \n",
      "4        min            0.001                 0.011  \n",
      "5        max            0.018                 0.198  \n"
     ]
    },
    {
     "data": {
      "text/html": [
       "<div>\n",
       "<style scoped>\n",
       "    .dataframe tbody tr th:only-of-type {\n",
       "        vertical-align: middle;\n",
       "    }\n",
       "\n",
       "    .dataframe tbody tr th {\n",
       "        vertical-align: top;\n",
       "    }\n",
       "\n",
       "    .dataframe thead th {\n",
       "        text-align: right;\n",
       "    }\n",
       "</style>\n",
       "<table border=\"1\" class=\"dataframe\">\n",
       "  <thead>\n",
       "    <tr style=\"text-align: right;\">\n",
       "      <th></th>\n",
       "      <th>crop_iri</th>\n",
       "      <th>fert_iri</th>\n",
       "      <th>climate_type</th>\n",
       "      <th>fert_type</th>\n",
       "      <th>value_type</th>\n",
       "      <th>emission_factor</th>\n",
       "      <th>emission [kg_N20/ha]</th>\n",
       "    </tr>\n",
       "  </thead>\n",
       "  <tbody>\n",
       "    <tr>\n",
       "      <th>3</th>\n",
       "      <td>http://data.europa.eu/xsp/cn2024/060011000090</td>\n",
       "      <td>http://data.europa.eu/xsp/cn2024/310200000080</td>\n",
       "      <td>default</td>\n",
       "      <td>default</td>\n",
       "      <td>value</td>\n",
       "      <td>0.010</td>\n",
       "      <td>0.110</td>\n",
       "    </tr>\n",
       "    <tr>\n",
       "      <th>4</th>\n",
       "      <td>http://data.europa.eu/xsp/cn2024/060011000090</td>\n",
       "      <td>http://data.europa.eu/xsp/cn2024/310200000080</td>\n",
       "      <td>default</td>\n",
       "      <td>default</td>\n",
       "      <td>min</td>\n",
       "      <td>0.001</td>\n",
       "      <td>0.011</td>\n",
       "    </tr>\n",
       "    <tr>\n",
       "      <th>5</th>\n",
       "      <td>http://data.europa.eu/xsp/cn2024/060011000090</td>\n",
       "      <td>http://data.europa.eu/xsp/cn2024/310200000080</td>\n",
       "      <td>default</td>\n",
       "      <td>default</td>\n",
       "      <td>max</td>\n",
       "      <td>0.018</td>\n",
       "      <td>0.198</td>\n",
       "    </tr>\n",
       "  </tbody>\n",
       "</table>\n",
       "</div>"
      ],
      "text/plain": [
       "                                        crop_iri  \\\n",
       "3  http://data.europa.eu/xsp/cn2024/060011000090   \n",
       "4  http://data.europa.eu/xsp/cn2024/060011000090   \n",
       "5  http://data.europa.eu/xsp/cn2024/060011000090   \n",
       "\n",
       "                                        fert_iri climate_type fert_type  \\\n",
       "3  http://data.europa.eu/xsp/cn2024/310200000080      default   default   \n",
       "4  http://data.europa.eu/xsp/cn2024/310200000080      default   default   \n",
       "5  http://data.europa.eu/xsp/cn2024/310200000080      default   default   \n",
       "\n",
       "  value_type  emission_factor  emission [kg_N20/ha]  \n",
       "3      value            0.010                 0.110  \n",
       "4        min            0.001                 0.011  \n",
       "5        max            0.018                 0.198  "
      ]
     },
     "execution_count": 9,
     "metadata": {},
     "output_type": "execute_result"
    }
   ],
   "source": [
    "run(product_iri,7)"
   ]
  },
  {
   "cell_type": "code",
   "execution_count": null,
   "id": "cd210a83-4425-430a-ad8a-c52dfb6d3fe3",
   "metadata": {},
   "outputs": [],
   "source": []
  }
 ],
 "metadata": {
  "kernelspec": {
   "display_name": "Python [conda env:sentier]",
   "language": "python",
   "name": "conda-env-sentier-py"
  },
  "language_info": {
   "codemirror_mode": {
    "name": "ipython",
    "version": 3
   },
   "file_extension": ".py",
   "mimetype": "text/x-python",
   "name": "python",
   "nbconvert_exporter": "python",
   "pygments_lexer": "ipython3",
   "version": "3.12.7"
  }
 },
 "nbformat": 4,
 "nbformat_minor": 5
}
